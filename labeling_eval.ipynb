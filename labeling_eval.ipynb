{
 "cells": [
  {
   "metadata": {
    "ExecuteTime": {
     "end_time": "2024-12-16T06:59:59.992187Z",
     "start_time": "2024-12-16T06:59:59.489079Z"
    }
   },
   "cell_type": "code",
   "source": [
    "import pandas as pd\n",
    "\n",
    "\n",
    "df=pd.read_csv('df_sampled_가격2(edited for labeling) - df_sampled_가격2.csv')\n",
    "df['polarity']=df['polarity'].str.upper()\n",
    "df=df.drop(columns=['비고','기타','gpt_aspect','gpt_polarity','gpt_category','gpt_target'],errors='ignore')\n",
    "df.info()"
   ],
   "id": "4a2cdc6c4b77d8ef",
   "outputs": [
    {
     "name": "stdout",
     "output_type": "stream",
     "text": [
      "<class 'pandas.core.frame.DataFrame'>\n",
      "RangeIndex: 45 entries, 0 to 44\n",
      "Data columns (total 11 columns):\n",
      " #   Column                         Non-Null Count  Dtype  \n",
      "---  ------                         --------------  -----  \n",
      " 0   product_id                     45 non-null     int64  \n",
      " 1   product_name                   45 non-null     object \n",
      " 2   review                         45 non-null     object \n",
      " 3   aspect                         45 non-null     object \n",
      " 4   final_aspect                   0 non-null      float64\n",
      " 5   polarity                       45 non-null     object \n",
      " 6   final_polarity                 0 non-null      float64\n",
      " 7   category(가격, 배송, 품질, 디자인, 기타)  45 non-null     object \n",
      " 8   final_category                 0 non-null      float64\n",
      " 9   수정 이유                          0 non-null      float64\n",
      " 10  특이사항                           0 non-null      float64\n",
      "dtypes: float64(5), int64(1), object(5)\n",
      "memory usage: 4.0+ KB\n"
     ]
    }
   ],
   "execution_count": 1
  },
  {
   "metadata": {
    "ExecuteTime": {
     "end_time": "2024-12-16T07:00:01.181136Z",
     "start_time": "2024-12-16T07:00:01.172110Z"
    }
   },
   "cell_type": "code",
   "source": "df.head()",
   "id": "8e31619a7551dded",
   "outputs": [
    {
     "data": {
      "text/plain": [
       "   product_id                                       product_name  \\\n",
       "0  3370895800  로얄워터 블랑쉬 코튼 비누향 베이비파우더 살냄새 백화점 수제 승무원 장미 오드퍼퓸 ...   \n",
       "1  3370895800   로얄워터 블랑쉬 코튼 비누향 베이비파우더 살냄새 수제 승무원 엑스트레 드 퍼퓸 30ml   \n",
       "2  3370895800  로얄워터 블랑쉬 코튼 비누향 베이비파우더 살냄새 백화점 수제 승무원 장미 오드퍼퓸 ...   \n",
       "3  3370895800   로얄워터 블랑쉬 코튼 비누향 베이비파우더 살냄새 수제 승무원 엑스트레 드 퍼퓸 30ml   \n",
       "4  3370895800  로얄워터 블랑쉬 코튼 비누향 베이비파우더 살냄새 백화점 수제 승무원 장미 오드퍼퓸 ...   \n",
       "\n",
       "                                              review  \\\n",
       "0  장미향을 찾고 있던중 여기 구매자수가 많아서 구매했는데 저랑은 향이 안맞네요. 빠른...   \n",
       "1      너무실망했어요.베이비파우더향이너무진하고향이너무인이적이고반품하고싶어요.아주별루예요.   \n",
       "2  처음에 선물 받아서 로얄워터 제품을 접하고 만족해서 교보에서 몇 번 더 구매했습니다...   \n",
       "3                              갑자기 구매 금액이 너무 비싸졌습니다.   \n",
       "4  3개 구매 하면 1개 렌덤 이라더니 작은샘플 하나 주네요 처음 부터 샘플 준다고 하...   \n",
       "\n",
       "                        aspect  final_aspect          polarity  \\\n",
       "0                  만족도, 배송, 포장           NaN           N, P, P   \n",
       "1                  만족도, 농도, 향조           NaN           N, N, N   \n",
       "2  톡 쏘는 향, 알코올 향, 향조, 만족도, 추천            NaN  N, N, N, N, N, N   \n",
       "3                           가격           NaN                 N   \n",
       "4                    판매 방식, 추천           NaN              N, N   \n",
       "\n",
       "   final_polarity category(가격, 배송, 품질, 디자인, 기타)  final_category  수정 이유  특이사항  \n",
       "0             NaN                    품질, 배송, 배송             NaN    NaN   NaN  \n",
       "1             NaN                    품질, 품질, 품질             NaN    NaN   NaN  \n",
       "2             NaN            품질, 품질, 품질, 품질, 품질             NaN    NaN   NaN  \n",
       "3             NaN                            가격             NaN    NaN   NaN  \n",
       "4             NaN                     서비스운영, 품질             NaN    NaN   NaN  "
      ],
      "text/html": [
       "<div>\n",
       "<style scoped>\n",
       "    .dataframe tbody tr th:only-of-type {\n",
       "        vertical-align: middle;\n",
       "    }\n",
       "\n",
       "    .dataframe tbody tr th {\n",
       "        vertical-align: top;\n",
       "    }\n",
       "\n",
       "    .dataframe thead th {\n",
       "        text-align: right;\n",
       "    }\n",
       "</style>\n",
       "<table border=\"1\" class=\"dataframe\">\n",
       "  <thead>\n",
       "    <tr style=\"text-align: right;\">\n",
       "      <th></th>\n",
       "      <th>product_id</th>\n",
       "      <th>product_name</th>\n",
       "      <th>review</th>\n",
       "      <th>aspect</th>\n",
       "      <th>final_aspect</th>\n",
       "      <th>polarity</th>\n",
       "      <th>final_polarity</th>\n",
       "      <th>category(가격, 배송, 품질, 디자인, 기타)</th>\n",
       "      <th>final_category</th>\n",
       "      <th>수정 이유</th>\n",
       "      <th>특이사항</th>\n",
       "    </tr>\n",
       "  </thead>\n",
       "  <tbody>\n",
       "    <tr>\n",
       "      <th>0</th>\n",
       "      <td>3370895800</td>\n",
       "      <td>로얄워터 블랑쉬 코튼 비누향 베이비파우더 살냄새 백화점 수제 승무원 장미 오드퍼퓸 ...</td>\n",
       "      <td>장미향을 찾고 있던중 여기 구매자수가 많아서 구매했는데 저랑은 향이 안맞네요. 빠른...</td>\n",
       "      <td>만족도, 배송, 포장</td>\n",
       "      <td>NaN</td>\n",
       "      <td>N, P, P</td>\n",
       "      <td>NaN</td>\n",
       "      <td>품질, 배송, 배송</td>\n",
       "      <td>NaN</td>\n",
       "      <td>NaN</td>\n",
       "      <td>NaN</td>\n",
       "    </tr>\n",
       "    <tr>\n",
       "      <th>1</th>\n",
       "      <td>3370895800</td>\n",
       "      <td>로얄워터 블랑쉬 코튼 비누향 베이비파우더 살냄새 수제 승무원 엑스트레 드 퍼퓸 30ml</td>\n",
       "      <td>너무실망했어요.베이비파우더향이너무진하고향이너무인이적이고반품하고싶어요.아주별루예요.</td>\n",
       "      <td>만족도, 농도, 향조</td>\n",
       "      <td>NaN</td>\n",
       "      <td>N, N, N</td>\n",
       "      <td>NaN</td>\n",
       "      <td>품질, 품질, 품질</td>\n",
       "      <td>NaN</td>\n",
       "      <td>NaN</td>\n",
       "      <td>NaN</td>\n",
       "    </tr>\n",
       "    <tr>\n",
       "      <th>2</th>\n",
       "      <td>3370895800</td>\n",
       "      <td>로얄워터 블랑쉬 코튼 비누향 베이비파우더 살냄새 백화점 수제 승무원 장미 오드퍼퓸 ...</td>\n",
       "      <td>처음에 선물 받아서 로얄워터 제품을 접하고 만족해서 교보에서 몇 번 더 구매했습니다...</td>\n",
       "      <td>톡 쏘는 향, 알코올 향, 향조, 만족도, 추천</td>\n",
       "      <td>NaN</td>\n",
       "      <td>N, N, N, N, N, N</td>\n",
       "      <td>NaN</td>\n",
       "      <td>품질, 품질, 품질, 품질, 품질</td>\n",
       "      <td>NaN</td>\n",
       "      <td>NaN</td>\n",
       "      <td>NaN</td>\n",
       "    </tr>\n",
       "    <tr>\n",
       "      <th>3</th>\n",
       "      <td>3370895800</td>\n",
       "      <td>로얄워터 블랑쉬 코튼 비누향 베이비파우더 살냄새 수제 승무원 엑스트레 드 퍼퓸 30ml</td>\n",
       "      <td>갑자기 구매 금액이 너무 비싸졌습니다.</td>\n",
       "      <td>가격</td>\n",
       "      <td>NaN</td>\n",
       "      <td>N</td>\n",
       "      <td>NaN</td>\n",
       "      <td>가격</td>\n",
       "      <td>NaN</td>\n",
       "      <td>NaN</td>\n",
       "      <td>NaN</td>\n",
       "    </tr>\n",
       "    <tr>\n",
       "      <th>4</th>\n",
       "      <td>3370895800</td>\n",
       "      <td>로얄워터 블랑쉬 코튼 비누향 베이비파우더 살냄새 백화점 수제 승무원 장미 오드퍼퓸 ...</td>\n",
       "      <td>3개 구매 하면 1개 렌덤 이라더니 작은샘플 하나 주네요 처음 부터 샘플 준다고 하...</td>\n",
       "      <td>판매 방식, 추천</td>\n",
       "      <td>NaN</td>\n",
       "      <td>N, N</td>\n",
       "      <td>NaN</td>\n",
       "      <td>서비스운영, 품질</td>\n",
       "      <td>NaN</td>\n",
       "      <td>NaN</td>\n",
       "      <td>NaN</td>\n",
       "    </tr>\n",
       "  </tbody>\n",
       "</table>\n",
       "</div>"
      ]
     },
     "execution_count": 2,
     "metadata": {},
     "output_type": "execute_result"
    }
   ],
   "execution_count": 2
  },
  {
   "metadata": {
    "ExecuteTime": {
     "end_time": "2024-12-16T07:00:03.527145Z",
     "start_time": "2024-12-16T07:00:02.732816Z"
    }
   },
   "cell_type": "code",
   "source": [
    "from langchain_openai import ChatOpenAI\n",
    "from langchain_core.prompts import PromptTemplate\n",
    "from langchain_core.output_parsers import StrOutputParser, JsonOutputParser\n",
    "from dotenv import load_dotenv\n",
    "load_dotenv()"
   ],
   "id": "7573111dd2e4e721",
   "outputs": [
    {
     "data": {
      "text/plain": [
       "True"
      ]
     },
     "execution_count": 3,
     "metadata": {},
     "output_type": "execute_result"
    }
   ],
   "execution_count": 3
  },
  {
   "metadata": {
    "ExecuteTime": {
     "end_time": "2024-12-16T07:00:03.543151Z",
     "start_time": "2024-12-16T07:00:03.540154Z"
    }
   },
   "cell_type": "code",
   "source": [
    "template='''\n",
    "다음은 리뷰에 대해 사람이 만든 ABSA 분석 라벨입니다. 해당 라벨을 검토하고, 필요하다면 수정해주세요.\n",
    "\n",
    "#### 입력:\n",
    "상품명: {product_name}\n",
    "리뷰: {review}\n",
    "1. 사람이 만든 aspect 라벨: {aspect}\n",
    "2. 사람이 만든 polarity 라벨: {polarity}\n",
    "3. 사람이 만든 category 라벨: {category}\n",
    "\n",
    "#### 수정된 라벨과 간단한 이유를 아래 json 형식으로 출력해주세요:\n",
    "   \"gpt_aspect\": \"\", (수정된 aspect 라벨, 바뀐 라벨을 제외한 기존 라벨)\n",
    "   \"gpt_polarity\": \"\", (수정된 aspect 라벨, 바뀐 라벨을 제외한 기존 라벨)\n",
    "   \"gpt_category\": \"\", (수정된 aspect 라벨, 바뀐 라벨을 제외한 기존 라벨)\n",
    "   \"수정 이유\": \"\"라벨 수정 또는 유지에 대한 간단한 이유\n",
    "\n",
    "#### 라벨링 기준:\n",
    "1. aspect: 제품(entity) 혹은 제품의 속성(attribute)을 나타내는 명사 또는 명사구\n",
    "2. polarity: aspect에 대한 P, N, O(중립)으로 나타내세요.\n",
    "3. category: 배송, 가격, 디자인, 품질, 서비스운영으로 나타내세요.\n",
    "   - 배송: 고객이 받은 배송 경험과 관련된 평가를 의미.\n",
    "   - 가격: 고객이 제품이나 서비스의 비용 대비 가치를 어떻게 느끼는지에 대한 평가.\n",
    "   - 디자인: 고객이 받은 상품이나 서비스의 외형적 아름다움, 실용성, 사용자 경험, 무게, 외형을 포함한 시각적 요소에 대한 평가.\n",
    "   - 품질: 고객 경험에 의해서 고객이 받은 전반적인 상품이나 서비스의 기능 및 성능이 어느정도로 기대에 부합하는가에 대한 개념.\n",
    "   - 서비스운영: 고객이 긍정적인 경험을 할 수 있도록 서비스를 설계하고 실행하며, 문제를 신속하고 체계적으로 해결하는 과정.\n",
    "\n",
    "'''"
   ],
   "id": "bada40b7dba4067d",
   "outputs": [],
   "execution_count": 4
  },
  {
   "metadata": {
    "ExecuteTime": {
     "end_time": "2024-12-16T07:00:04.274385Z",
     "start_time": "2024-12-16T07:00:04.223766Z"
    }
   },
   "cell_type": "code",
   "source": [
    "prompt=PromptTemplate.from_template(template=template)\n",
    "model=ChatOpenAI()\n",
    "output_parser=JsonOutputParser()\n",
    "chain=prompt|model|output_parser"
   ],
   "id": "7f3337aeef11d29d",
   "outputs": [],
   "execution_count": 5
  },
  {
   "metadata": {
    "ExecuteTime": {
     "end_time": "2024-12-16T07:01:36.406046Z",
     "start_time": "2024-12-16T07:00:05.248807Z"
    }
   },
   "cell_type": "code",
   "source": [
    "results=[]\n",
    "\n",
    "for i in range(len(df)):\n",
    "    product_name = df['product_name'].iloc[i]\n",
    "    review = df['review'].iloc[i]\n",
    "    aspect=df['aspect'].iloc[i]\n",
    "    polarity=df['polarity'].iloc[i]\n",
    "    category=df['category(가격, 배송, 품질, 디자인, 기타)'].iloc[i]\n",
    "\n",
    "    print(f'{i}번째 - 리뷰: {review}')\n",
    "    output=chain.invoke({'product_name':f'{product_name}','review':f'{review}','aspect':f'{aspect}','category':f'{category}','polarity':f'{polarity}'})\n",
    "\n",
    "    results.append({\n",
    "        'gpt_aspect': output.get('gpt_aspect'),\n",
    "        'gpt_polarity':output.get('gpt_polarity'),\n",
    "        'gpt_category':output.get('gpt_category'),\n",
    "        '수정 이유':output.get('수정 이유')\n",
    "    })\n",
    "\n",
    "gpt_results_df=pd.DataFrame(results)\n",
    "final_df=pd.concat([df.reset_index(drop=True),gpt_results_df],axis=1)\n",
    "final_df.info()"
   ],
   "id": "9cedeb38008bf169",
   "outputs": [
    {
     "name": "stdout",
     "output_type": "stream",
     "text": [
      "0번째 - 리뷰: 장미향을 찾고 있던중 여기 구매자수가 많아서 구매했는데 저랑은 향이 안맞네요. 빠른배송이나 포장상태는 좋습니다.\n",
      "1번째 - 리뷰: 너무실망했어요.베이비파우더향이너무진하고향이너무인이적이고반품하고싶어요.아주별루예요.\n",
      "2번째 - 리뷰: 처음에 선물 받아서 로얄워터 제품을 접하고 만족해서 교보에서 몇 번 더 구매했습니다(선물용으로도 좋아서) 교보 제품들은 만족스러웠어요 그래서 이번에 네이버에서 블루밍을 구매해봤는데 다른 제품이 배송된 게 아닐까 싶을 정도로 톡 쏘는 향이 너무 강했고 알콜이 그대로 느껴졌어요 바로 컴플레인을 할까 생각했지만 숙성기간이 지나야한다라고 하실 것 같아 그냥 시간이 지나기만 기다렸습니다 그런데 한달이 지났는데도 후추향같은 톡 쏘는 향만 강하고 머리 아픈 진한 꽃냄새만 납니다 여리여리한 블루밍의 매력은 아예 없어요 제가 받은 제품에 문제가 있는 건지 로얄워터의 블루밍이 원래 이런 건지 알 수가 없으니 답답하고 실망스럽습니다 이럴 줄 알았으면 받자마자 교환이든 환불이든 받을 걸 괜히 기다렸단 후회밖에 안드네요 안좋은 후기 쓸 바엔 다신 그 상품을 쓰지말자 주의덴 다른 로얄워터 제품들은 만족했던 터라 한달후기 씁니다\n",
      "3번째 - 리뷰: 갑자기 구매 금액이 너무 비싸졌습니다.\n",
      "4번째 - 리뷰: 3개 구매 하면 1개 렌덤 이라더니 작은샘플 하나 주네요 처음 부터 샘플 준다고 하지 비추천 입니다\n",
      "5번째 - 리뷰: 예전부터 꾸준히 구매해왔고 이후에 쿠*서도 계속 구매중이었습니다 20000원까지 오를때도 급격하다 생각하면서도 이해했지만 패키지 교체로 25000원으로 오른건 좀 심하네요 솔직히 오리지널리티가 있는 것도 아닌데 이걸 누가 선물을 해요 저렴이로 자기가 쓰는거지 그리고 패키지 값이 5천원요??? 원자재값이 올라서 또 올리는거면 이해를 하죠 패키지 핑계로 5천원이라.. 양심 좀 가격이 저렴해서 신제품 나올때마다 이것저것 사보곤 했는데 이젠 그럴 일이 없을듯요 이번엔 쿠폰으로 인상전과 별차이가 없어 사봤는데 73번 별롭니다 뭔가 남자스킨 냄새 납니다 확실히 진하긴 한듯은 합니다 첫향이 너무 독합니다\n",
      "6번째 - 리뷰: 포장이 난감합니다. 두꺼운 박스를 열기 힘들게 해, 결국엔 찢어집니다. 고급스럽지도 않아요. 어차피 개봉할 향수를 굳이 어렵게 싸놓고 쓰레기까지 만드는 이유를 모르겠습니다. 가격이 터무니없이 올라 뭔가 싶더니, 포장까지 기분을 다운시키는 지혜롭지 못한 전략. 향도 예전보다 옅어진 느낌이에요. 소비자는 소비자를 우선으로 하는 합리적인 업체를 신뢰합니다. 더 이상의 구매는 없을 듯.\n",
      "7번째 - 리뷰: 포장이 난감합니다. 두꺼운 박스를 열기 힘들게 해, 결국엔 찢어집니다. 고급스럽지도 않아요. 어차피 개봉할 향수를 굳이 어렵게 싸놓고 쓰레기까지 만드는 이유를 모르겠습니다. 가격이 터무니없이 올라 뭔가 싶더니, 포장까지 기분을 다운시키는 지혜롭지 못한 전략. 향도 예전보다 옅어진 느낌이에요. 소비자는 소비자를 우선으로 하는 합리적인 업체를 신뢰합니다. 더 이상의 구매는 없을 듯.\n",
      "8번째 - 리뷰: 파우더 냄새랑 전혀 틀리네요 다른분은 어떤지 모르겠지만 저는 그냥 안쓸랍니다 역시 싼게 .... 파우더향이 전혀 느껴지지 않습니다 지속력은 솔직히 모르겠네요 빨리 씻어내야겠습니다\n",
      "9번째 - 리뷰: 향이 강한데 싼티나요\n",
      "10번째 - 리뷰: 솔직히 익숙한 비누향은 1도 안나네요. 오히려 저렴한 디퓨저냄새같아요...실망...\n",
      "11번째 - 리뷰: 일시적인 강한향으로 인해 두통 유발~~ 저렴한 향수 느낌이 너무나서 별로예요\n",
      "12번째 - 리뷰: 어제 주문 오늘 도착. 머스크향을 좋아하는지라 더**샵 화이트머스크 매니아였는데 어느날 비건으로 바껴 기존향이 안나 그때부터 유목민이 되었네요 최대한 비슷한 화이트머스크향을 찾다 구매했어요 기분따라 디올이나 안나수이도 쓰지만 주로 머스크향으로~ 머스크향 위주로 주문했는데 일단 시향은 나쁘진 않네요 써보고 괜찮으면 재주문할게요 써본후 향이 그닥.. 알콜향도 강하고 머리도 아프고 좀 역합니다 돈을 더줘도 블랜드향수가 답인네요 지나치는 분중 싸구려향이 느껴질때 있는데 딱 그느낌. 안나수이,디올,더바디샵 향수 쓰는데 더바디샵 화이트머스크가 비건으로 바뀌며 기존향이랑 달라 그향 찾을려고 머스크위주로 주문해봤는데 돈만 날렸네요 세개나 구매했는데 방향제도 안되고 어째야될지 ㅠ\n",
      "13번째 - 리뷰: 와... 2만원으로 올린 지 얼마나 됐다고 5천원으로 올렸길래 향 지속성이 더 좋아졌나? 하고 기대한 제가 바보였어요. 패키지 값이 5천원.. 헛웃음 나왔어요. 여기 구매 한지 5년 가까이 되가는데 예전엔 가성비 좋고 펑펑 뿌려도 향이 지속성이 약하니까 그만큼. 자주 뿌려서 싸도 괜찮으니까. 2만원으로 올렸을 때도 그래도.. 지속성 올리셨다 하니 믿고 구매했습니다. 그런데. 이번엔 진짜 큰 실수 하신 것 같네요. 충성 고객 다 떨어져 나가게 한 치명적 실수 아니신가요. 패키지.. 진짜 요즘 쓰레기 줄이는 기후 운동에도 전혀 맞지도 않고 너무 최악의 결정이에요 1점 주려다가 진짜.. 그간의 정을 생각해서 주는 2점입니다. 이건 팀 내에서 다시 고려하시고 5천원 내려서 패키지 원래대로 돌리시고 원래대로 컴팩트 하게 가시는게 맞지 않나 싶네요. 이렇게 길게 쓰는 것도 무작정 까가 아니라 개선을 하셔야 한다고 생각하셔서 쓰는 글입니다. 제발 이번 가격 인상은 정말 아니라고 생각합니다.\n",
      "14번째 - 리뷰: 인기상품이라고해서 구매해서 너무 독하고 찐해서 머리아파요ㅠㅠ 다시 다른거 주문해야겠어요 그리고 가격 너무 올랐는데 전처럼 상자랑 선물용패키지빼고 옵션으로 넣고 가격 내려주셨으면 좋겠어요 너무 비싸네요..\n",
      "15번째 - 리뷰: 너무. 실망입니다. 향도 지속력도 없는것. 같아요\n",
      "16번째 - 리뷰: 가격 정말 많이 올랐네요 . 포장을 선택으로 하고 가격이 내려 가면 좋겠어요. 뜯고 바로 버리는데 너무 과대 포장 이네요. 예전에 향수만 딱 들어 있고 만원일때 정말 굿이였는디 많이 아쉽네요.\n",
      "17번째 - 리뷰: 뜨아~~~ ㅠㅠ 샌달우드 에센스가 탐다오 였다니 ㅠ 이름이 없던 것이라 새로운 향인가 싶어 구매 후 시향해보니.. 응?? 탐다오랑 너무 똑같은데!? 하고 찾아보니 이름이 바뀐거였어요 ㅠ 속상~~~~~ 사용중인 향이긴해서 그냥 쓰긴하는데 기대했던 새로운 향이 아니라 좀 실망\n",
      "18번째 - 리뷰: 가격인상이 많이 되었는데 지속력 때문이라더니. 솔직히 체감 하나도 안돼요.. 진짜 오랜 시간 썼는데 항상 아쉬운 점이 지속력 이었거든요 기대에 못 미치는 것 같아 쪼금 아쉽습니다. 향의 다양성에 대해 앞으로 더 계획은 없으신지 제품명은 왜 바꿨는지 궁금하네용..\n",
      "19번째 - 리뷰: 가격이 너무 큰폭으로 올라서 당황했네요. 인상한 가격만큼 패키지보다는 퀄리티 향상이 됐음 하는 바람입니다.\n",
      "20번째 - 리뷰: 무슨 향인지 모르니까 인기 많은 제품으로 구매했는데 쏘쏘.. 저렴한 향수 느낌이에여.. 기분탓인가ㅠ\n",
      "21번째 - 리뷰: 금액이 2배 올랐는데 사실.. 별다른 차이점을 크게 못느끼겠네요. 가성비가 좋아서 선호했지만, 지금은 그닥 금액이 좋지는 않은거같아요.\n",
      "22번째 - 리뷰: 과대포장으로 금액을 올린듯 싶네요ㅜㅜ\n",
      "23번째 - 리뷰: 향이 넘 진해서 겨울에 사용해야 할듯하네요 가격대비 제품은 괜찮은듯합니다\n",
      "24번째 - 리뷰: 향이 오래가진 않지만 그래도 가격 대비 쓸만해요\n",
      "25번째 - 리뷰: 블랑쉬 리뉴얼 전부터 계속 주문하다 가격 오른거보고 이제 안쓰려했는데 향이 너무 좋아서 포기 못하고 다시 주문했습니다 저는 진한 향수는 완전 싫어하고 비누향을 너무 좋아합니다 일단 처음 뿌렸을땐 바이레도 블랑쉬랑 거의 비슷한데 그건 거의 10분정도고 그 다음부턴 바이레도보다 여기꺼가 향이 더 좋더라구요 이거 뿌렸을때 향 좋다고 뭐쓰냐는 소리 자주 들었어요 지속력은 안좋았지만 선물도 많이하고 홍보도 많이 했었습니다 가격이 2배로 올라서 안사려했지만 지속력을 높였다고 하니 어디한번 보자~ 란 생각으로 주문했습니다 기존에 쓰던게 아직 조금 남아있어서 왼쪽 손목은 기존꺼, 오른쪽 손목은 2배오른 지금꺼로 뿌려서 출근했는데.. 기존꺼는 30분 지나니 향이 없어지고 2배 오른건 1시간 지나니 향이 다 사라지고 없네요ㅋㅋ 지속력 높아진건 맞는데 한시간만에 사라지다니.. 이러면 굳이 가격이 2배나 오를 필요가 있었나 싶네요 그리고 특가로 산 오로즈는 딥디크꺼랑 비슷하고 향도 반나절 정도 지속되는 듯합니다 오히려 이게 더 지속력이 좋네요 여기꺼는 향은 참 잘 따라만들어 좋은데 지속력과 갑자기 2배오른 가격이 참 아쉬워요 상품평 길게 쓰는편이 아닌데 너무 아쉬운 마음에 써봅니다 이왕 가격올리고 리뉴얼된거 지속력 더 높아질수있도록 부탁합니다 평생 쓰는 향수이고 싶어요\n",
      "26번째 - 리뷰: 몇년째 로얄제품 쓰는 단골입니다! 쟁여둔걸 다 써서 재구매하려 오랜만에 들어왔어요 근데 제품가격은 배가 되어있고, 패키지는 솔직히 선물용 아니면 낭비다싶을정도로 크고 왜 크게 만드셨을까 싶으네요 (선물용패키지면 좋을것 같아요!) 향이나 지속력은 이전버전과는 다른것 같진 않은데... 로얄도 이제 가격오르고 변하시는건가요ㅠㅠ 이 두가지 의견말고는 향 부분에선 좋아요!\n",
      "27번째 - 리뷰: 배송 빠르고 향도 비슷해요 ㅎㅎ\n",
      "28번째 - 리뷰: 세번 재구매 했는데 가격에 비해 괜찬습니다\n",
      "29번째 - 리뷰: 착한 가격에 잘 구입요. 은은하니 향이 좋아요.\n",
      "30번째 - 리뷰: 가성비 좋아요 향 지속력도 나쁘지 않아요\n",
      "31번째 - 리뷰: 가격이 또 올랐네요? 향수는 여기서만 주문해서 꾸준히 쓰고 있어요. 이것저것 다 써봤는데 향이 전체적으로 제 취향이예요. 지속력이 좋은편이라 더 고집하게 되는거 같아요.\n",
      "32번째 - 리뷰: 오래 썼는데 향은 좋은데 가격이 아쉽네요ㅜ\n",
      "33번째 - 리뷰: 예전부터 쓰긴했는데 가격에 비해 지속력이 오래는 안가는것같아요 옛날에는 이것저것 몇개씩 사서썼는데 가격대비 2개살거면 기성 향수 사서쓰는게 나을가하는 생각이네요 ㅠ 예전이 좋았어요\n",
      "34번째 - 리뷰: 가격 대비 만족합니다\n",
      "35번째 - 리뷰: 배송도 빠르고 좋네요 다음에 또 주문하겠습니다 :)\n",
      "36번째 - 리뷰: 가격대비짱.빠른배송도감사하며손편지도감동이었습니다. 가성비로좋고향도은은하니좋습니다. 워낙에우드향을좋아해서~모두우드향으로구매했습니다. 딸아이가이거뿌리면어디서좋은향이난다고하네요. 적극추천합니다.\n",
      "37번째 - 리뷰: 배송도 빠르고 향도 맘에 들어요\n",
      "38번째 - 리뷰: 배송빠르고 좋아요 ㅎㅎ\n",
      "39번째 - 리뷰: 생각했던 향이라 좋네요 가격도 적당하고요\n",
      "40번째 - 리뷰: 지속력음 짧지만 잔향, 가격면에서 아주 만족하고 사용하고 있어 몇병째 구매하고 있습니다. 이번에 라방으로 1개 구입시 10ml 추가증정해서 집에 사놓은게 있는데도 더 구매했어요^^ 배송도 빠르고 너무 만족스럽습니다!\n",
      "41번째 - 리뷰: 지속력이 더 좋아지고 가격이 올랐다고 한거같은데 사실 체감은 잘 안되네요 그치만 향이 좋아서 주문한거라 계속 사용할겁니다!ㅋㅋ\n",
      "42번째 - 리뷰: 생각했던 냄새들이어서 향 맡아보자마자 놀랬습니다ㅎㅎ앞으로도 종종 많이 이용할 것 같아요! 제가 궁금한 향도 미리 맡아볼 수 있어서 좋았습니다. 가격에비해 가성비 최고여서 다음에 핑크워터 사용해보려구요!\n",
      "43번째 - 리뷰: 배송빠르고 꽃향이 맘에 들어요~^^\n",
      "44번째 - 리뷰: 항상 사용하는 향수에용 향도 너무 좋고 근데 사려고만 하면 가격이 계속 올라요 이번에 케이스가. 넘 좋아졌던데 선물용이 아닌 저한테는 포장보다는 가격이 낮은게 좋은듯\n",
      "<class 'pandas.core.frame.DataFrame'>\n",
      "RangeIndex: 45 entries, 0 to 44\n",
      "Data columns (total 15 columns):\n",
      " #   Column                         Non-Null Count  Dtype  \n",
      "---  ------                         --------------  -----  \n",
      " 0   product_id                     45 non-null     int64  \n",
      " 1   product_name                   45 non-null     object \n",
      " 2   review                         45 non-null     object \n",
      " 3   aspect                         45 non-null     object \n",
      " 4   final_aspect                   0 non-null      float64\n",
      " 5   polarity                       45 non-null     object \n",
      " 6   final_polarity                 0 non-null      float64\n",
      " 7   category(가격, 배송, 품질, 디자인, 기타)  45 non-null     object \n",
      " 8   final_category                 0 non-null      float64\n",
      " 9   수정 이유                          0 non-null      float64\n",
      " 10  특이사항                           0 non-null      float64\n",
      " 11  gpt_aspect                     45 non-null     object \n",
      " 12  gpt_polarity                   45 non-null     object \n",
      " 13  gpt_category                   45 non-null     object \n",
      " 14  수정 이유                          45 non-null     object \n",
      "dtypes: float64(5), int64(1), object(9)\n",
      "memory usage: 5.4+ KB\n"
     ]
    }
   ],
   "execution_count": 6
  },
  {
   "metadata": {
    "ExecuteTime": {
     "end_time": "2024-12-16T07:02:42.886050Z",
     "start_time": "2024-12-16T07:02:42.869057Z"
    }
   },
   "cell_type": "code",
   "source": "final_df.to_csv('final_df_가격2.csv',index=False,encoding='utf-8')",
   "id": "7b765359bd70aa76",
   "outputs": [],
   "execution_count": 7
  },
  {
   "metadata": {},
   "cell_type": "code",
   "outputs": [],
   "execution_count": null,
   "source": "",
   "id": "85b8d5c8d0bd1c70"
  }
 ],
 "metadata": {
  "kernelspec": {
   "display_name": "Python 3",
   "language": "python",
   "name": "python3"
  },
  "language_info": {
   "codemirror_mode": {
    "name": "ipython",
    "version": 2
   },
   "file_extension": ".py",
   "mimetype": "text/x-python",
   "name": "python",
   "nbconvert_exporter": "python",
   "pygments_lexer": "ipython2",
   "version": "2.7.6"
  }
 },
 "nbformat": 4,
 "nbformat_minor": 5
}
