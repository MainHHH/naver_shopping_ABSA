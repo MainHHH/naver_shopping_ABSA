{
 "cells": [
  {
   "metadata": {},
   "cell_type": "markdown",
   "source": "## 1. 전처리",
   "id": "6af095153a4972b3"
  },
  {
   "metadata": {
    "ExecuteTime": {
     "end_time": "2024-12-16T04:40:42.909438Z",
     "start_time": "2024-12-16T04:40:42.896842Z"
    }
   },
   "cell_type": "code",
   "source": [
    "import re\n",
    "\n",
    "def clean_text(text):\n",
    "    \"\"\"\n",
    "    텍스트 데이터를 정리하는 함수:\n",
    "    - 이모티콘 및 기타 기호 제거\n",
    "    - 줄바꿈 문자 제거\n",
    "    - HTML 태그 제거\n",
    "    - URL 제거\n",
    "    - 불필요한 공백 제거\n",
    "    \"\"\"\n",
    "    # 이모티콘 및 특정 기호 패턴 (Unicode 범위를 사용)\n",
    "    emoji_pattern = re.compile(\n",
    "        \"[\"\n",
    "        \"\\U0001F600-\\U0001F64F\"  # 감정 표현 이모티콘\n",
    "        \"\\U0001F300-\\U0001F5FF\"  # 기호 및 객체\n",
    "        \"\\U0001F680-\\U0001F6FF\"  # 교통 및 기계\n",
    "        \"\\U0001F700-\\U0001F77F\"  # 기타 기호\n",
    "        \"\\U0001F780-\\U0001F7FF\"  # 추가적인 기호\n",
    "        \"\\U0001F800-\\U0001F8FF\"  # 기호 확장\n",
    "        \"\\U0001F900-\\U0001F9FF\"  # 이모티콘 확장\n",
    "        \"\\U0001FA00-\\U0001FA6F\"  # 추가 기호\n",
    "        \"\\U0001FA70-\\U0001FAFF\"  # 기타 범위\n",
    "        \"\\u2600-\\u26FF\"          # 기타 기호\n",
    "        \"\\u2700-\\u27BF\"          # 딩뱃\n",
    "        \"]\",\n",
    "        flags=re.UNICODE\n",
    "    )\n",
    "\n",
    "    # HTML 태그 제거\n",
    "    text = re.sub(r'<[^>]+>', '', text)\n",
    "    # URL 제거\n",
    "    text = re.sub(r'http[s]?://\\S+|www\\.\\S+', '', text)\n",
    "    # 이모티콘 제거\n",
    "    text = emoji_pattern.sub(\"\", text)\n",
    "    # 줄바꿈 문자 제거\n",
    "    text = re.sub(r'\\n', ' ', text)\n",
    "    # 추가 공백 제거\n",
    "    text = re.sub(r'\\s+', ' ', text).strip()\n",
    "\n",
    "    return text\n"
   ],
   "id": "15dd77e7b4b25aa4",
   "outputs": [],
   "execution_count": 1
  },
  {
   "metadata": {},
   "cell_type": "markdown",
   "source": "## 2. 파일 불러오기 및 전처리 적용",
   "id": "9b2fa8ceb50b94a5"
  },
  {
   "cell_type": "code",
   "id": "initial_id",
   "metadata": {
    "collapsed": true,
    "ExecuteTime": {
     "end_time": "2024-12-16T04:40:45.021544Z",
     "start_time": "2024-12-16T04:40:43.573181Z"
    }
   },
   "source": [
    "import pandas as pd\n",
    "import json\n",
    "\n",
    "with open('smartstore_reviews/smartstore_reviews/spiders/test1.json', 'r', encoding='utf-8') as file:\n",
    "    data = json.load(file)\n",
    "df=pd.DataFrame(data)\n",
    "df['review'] = df['review'].apply(clean_text)\n",
    "df['product_name'] = df['product_name'].apply(clean_text)\n"
   ],
   "outputs": [],
   "execution_count": 2
  },
  {
   "metadata": {},
   "cell_type": "markdown",
   "source": "## 3. 별점 개수 세기",
   "id": "2274a32789398613"
  },
  {
   "metadata": {
    "ExecuteTime": {
     "end_time": "2024-12-16T04:43:37.668125Z",
     "start_time": "2024-12-16T04:43:37.644861Z"
    }
   },
   "cell_type": "code",
   "source": [
    "# 별점 개수 세기\n",
    "rating_counts = df['stars_score'].value_counts().sort_index()\n",
    "\n",
    "print(rating_counts)\n"
   ],
   "id": "b508f45ca170aba6",
   "outputs": [
    {
     "name": "stdout",
     "output_type": "stream",
     "text": [
      "stars_score\n",
      "1     13\n",
      "2     10\n",
      "3     25\n",
      "4     84\n",
      "5    338\n",
      "Name: count, dtype: int64\n"
     ]
    }
   ],
   "execution_count": 11
  },
  {
   "metadata": {
    "ExecuteTime": {
     "end_time": "2024-12-16T04:43:34.791209Z",
     "start_time": "2024-12-16T04:43:34.775120Z"
    }
   },
   "cell_type": "code",
   "source": [
    "# '배송' 키워드가 포함된 리뷰만 필터링\n",
    "df_shipping = df[df['review'].str.contains('배송|포장', na=False)]\n",
    "\n",
    "# 결과 확인\n",
    "print(df_shipping.head())\n"
   ],
   "id": "7edd501d83207891",
   "outputs": [
    {
     "name": "stdout",
     "output_type": "stream",
     "text": [
      "    smartstore                                       product_name  product_id  \\\n",
      "2   vanessdeco  [베스트어워즈/무료배송] 바네스데코 대나무 햄퍼 다용도 원목 수납 1단 내추럴 빨래바구니  5058742474   \n",
      "25  vanessdeco  [블프 세일가/무료배송] 바네스데코 대나무 햄퍼 다용도 원목 수납 1단 내추럴 빨래바구니  5058742474   \n",
      "26  vanessdeco  [베스트어워즈/무료배송] 바네스데코 대나무 햄퍼 다용도 원목 수납 1단 내추럴 빨래바구니  5058742474   \n",
      "43  vanessdeco  [블프 세일가/무료배송] 바네스데코 대나무 햄퍼 다용도 원목 수납 1단 내추럴 빨래바구니  5058742474   \n",
      "50  vanessdeco  [블프 세일가/무료배송] 바네스데코 대나무 햄퍼 다용도 원목 수납 1단 내추럴 빨래바구니  5058742474   \n",
      "\n",
      "                  product_option     user_id                     apply_date  \\\n",
      "2     상품: 01.1단 햄퍼(내추럴)(기본바스켓포함)    pan0****  2024-12-15T06:40:03.768+00:00   \n",
      "25    상품: 01.1단 햄퍼(내추럴)(기본바스켓포함)    socc****  2024-11-26T14:33:07.448+00:00   \n",
      "26  상품: 13.슬라이딩2칸선반(화이트)(이너박스포함)  dmsw******  2024-12-06T05:19:41.916+00:00   \n",
      "43    상품: 01.1단 햄퍼(내추럴)(기본바스켓포함)     cds3***  2024-11-20T11:02:11.348+00:00   \n",
      "50    상품: 01.1단 햄퍼(내추럴)(기본바스켓포함)   syun*****  2024-11-17T10:23:32.180+00:00   \n",
      "\n",
      "                                               review  stars_score  \\\n",
      "2   크기도 딱 적당하구 조립도 간편해서 금방 뚝딱 만들었네요 배송도 이삼일만에 받았습니...            5   \n",
      "25  사이즈가 작고 퀄리티는 가격대비 딱 중국산 스럽습니다 생각한거보다 작아요 혼자사는 ...            4   \n",
      "26  배송아주 빠르고 조립하는게 조금 어려웠긴했어요 ㅠㅠ 조립하는데 1~2시간은 족히 걸...            5   \n",
      "43                                    배송 빠르고 상품 만족합니다            5   \n",
      "50                                       배송 빠르고 만족합니다            5   \n",
      "\n",
      "    thumb_count  \n",
      "2             0  \n",
      "25            0  \n",
      "26            0  \n",
      "43            0  \n",
      "50            0  \n"
     ]
    }
   ],
   "execution_count": 10
  },
  {
   "metadata": {},
   "cell_type": "markdown",
   "source": "## 4. 기존에 있던 db랑 합치기",
   "id": "6186f850fa21cff3"
  },
  {
   "metadata": {
    "ExecuteTime": {
     "end_time": "2024-12-16T04:44:04.698521Z",
     "start_time": "2024-12-16T04:44:03.617135Z"
    }
   },
   "cell_type": "code",
   "source": [
    "final_df=pd.read_csv('final_df.csv')\n",
    "df=pd.concat([df,rating_counts])\n",
    "df"
   ],
   "id": "91169db756f44ebd",
   "outputs": [
    {
     "ename": "FileNotFoundError",
     "evalue": "[Errno 2] No such file or directory: 'final_df.csv'",
     "output_type": "error",
     "traceback": [
      "\u001B[0;31m---------------------------------------------------------------------------\u001B[0m",
      "\u001B[0;31mFileNotFoundError\u001B[0m                         Traceback (most recent call last)",
      "Cell \u001B[0;32mIn[12], line 1\u001B[0m\n\u001B[0;32m----> 1\u001B[0m final_df\u001B[38;5;241m=\u001B[39mpd\u001B[38;5;241m.\u001B[39mread_csv(\u001B[38;5;124m'\u001B[39m\u001B[38;5;124mfinal_df.csv\u001B[39m\u001B[38;5;124m'\u001B[39m)\n\u001B[1;32m      2\u001B[0m df\u001B[38;5;241m=\u001B[39mpd\u001B[38;5;241m.\u001B[39mconcat([df,rating_counts])\n\u001B[1;32m      3\u001B[0m df\n",
      "File \u001B[0;32m/opt/anaconda3/envs/naver_shopping_absa/lib/python3.11/site-packages/pandas/io/parsers/readers.py:1026\u001B[0m, in \u001B[0;36mread_csv\u001B[0;34m(filepath_or_buffer, sep, delimiter, header, names, index_col, usecols, dtype, engine, converters, true_values, false_values, skipinitialspace, skiprows, skipfooter, nrows, na_values, keep_default_na, na_filter, verbose, skip_blank_lines, parse_dates, infer_datetime_format, keep_date_col, date_parser, date_format, dayfirst, cache_dates, iterator, chunksize, compression, thousands, decimal, lineterminator, quotechar, quoting, doublequote, escapechar, comment, encoding, encoding_errors, dialect, on_bad_lines, delim_whitespace, low_memory, memory_map, float_precision, storage_options, dtype_backend)\u001B[0m\n\u001B[1;32m   1013\u001B[0m kwds_defaults \u001B[38;5;241m=\u001B[39m _refine_defaults_read(\n\u001B[1;32m   1014\u001B[0m     dialect,\n\u001B[1;32m   1015\u001B[0m     delimiter,\n\u001B[0;32m   (...)\u001B[0m\n\u001B[1;32m   1022\u001B[0m     dtype_backend\u001B[38;5;241m=\u001B[39mdtype_backend,\n\u001B[1;32m   1023\u001B[0m )\n\u001B[1;32m   1024\u001B[0m kwds\u001B[38;5;241m.\u001B[39mupdate(kwds_defaults)\n\u001B[0;32m-> 1026\u001B[0m \u001B[38;5;28;01mreturn\u001B[39;00m _read(filepath_or_buffer, kwds)\n",
      "File \u001B[0;32m/opt/anaconda3/envs/naver_shopping_absa/lib/python3.11/site-packages/pandas/io/parsers/readers.py:620\u001B[0m, in \u001B[0;36m_read\u001B[0;34m(filepath_or_buffer, kwds)\u001B[0m\n\u001B[1;32m    617\u001B[0m _validate_names(kwds\u001B[38;5;241m.\u001B[39mget(\u001B[38;5;124m\"\u001B[39m\u001B[38;5;124mnames\u001B[39m\u001B[38;5;124m\"\u001B[39m, \u001B[38;5;28;01mNone\u001B[39;00m))\n\u001B[1;32m    619\u001B[0m \u001B[38;5;66;03m# Create the parser.\u001B[39;00m\n\u001B[0;32m--> 620\u001B[0m parser \u001B[38;5;241m=\u001B[39m TextFileReader(filepath_or_buffer, \u001B[38;5;241m*\u001B[39m\u001B[38;5;241m*\u001B[39mkwds)\n\u001B[1;32m    622\u001B[0m \u001B[38;5;28;01mif\u001B[39;00m chunksize \u001B[38;5;129;01mor\u001B[39;00m iterator:\n\u001B[1;32m    623\u001B[0m     \u001B[38;5;28;01mreturn\u001B[39;00m parser\n",
      "File \u001B[0;32m/opt/anaconda3/envs/naver_shopping_absa/lib/python3.11/site-packages/pandas/io/parsers/readers.py:1620\u001B[0m, in \u001B[0;36mTextFileReader.__init__\u001B[0;34m(self, f, engine, **kwds)\u001B[0m\n\u001B[1;32m   1617\u001B[0m     \u001B[38;5;28mself\u001B[39m\u001B[38;5;241m.\u001B[39moptions[\u001B[38;5;124m\"\u001B[39m\u001B[38;5;124mhas_index_names\u001B[39m\u001B[38;5;124m\"\u001B[39m] \u001B[38;5;241m=\u001B[39m kwds[\u001B[38;5;124m\"\u001B[39m\u001B[38;5;124mhas_index_names\u001B[39m\u001B[38;5;124m\"\u001B[39m]\n\u001B[1;32m   1619\u001B[0m \u001B[38;5;28mself\u001B[39m\u001B[38;5;241m.\u001B[39mhandles: IOHandles \u001B[38;5;241m|\u001B[39m \u001B[38;5;28;01mNone\u001B[39;00m \u001B[38;5;241m=\u001B[39m \u001B[38;5;28;01mNone\u001B[39;00m\n\u001B[0;32m-> 1620\u001B[0m \u001B[38;5;28mself\u001B[39m\u001B[38;5;241m.\u001B[39m_engine \u001B[38;5;241m=\u001B[39m \u001B[38;5;28mself\u001B[39m\u001B[38;5;241m.\u001B[39m_make_engine(f, \u001B[38;5;28mself\u001B[39m\u001B[38;5;241m.\u001B[39mengine)\n",
      "File \u001B[0;32m/opt/anaconda3/envs/naver_shopping_absa/lib/python3.11/site-packages/pandas/io/parsers/readers.py:1880\u001B[0m, in \u001B[0;36mTextFileReader._make_engine\u001B[0;34m(self, f, engine)\u001B[0m\n\u001B[1;32m   1878\u001B[0m     \u001B[38;5;28;01mif\u001B[39;00m \u001B[38;5;124m\"\u001B[39m\u001B[38;5;124mb\u001B[39m\u001B[38;5;124m\"\u001B[39m \u001B[38;5;129;01mnot\u001B[39;00m \u001B[38;5;129;01min\u001B[39;00m mode:\n\u001B[1;32m   1879\u001B[0m         mode \u001B[38;5;241m+\u001B[39m\u001B[38;5;241m=\u001B[39m \u001B[38;5;124m\"\u001B[39m\u001B[38;5;124mb\u001B[39m\u001B[38;5;124m\"\u001B[39m\n\u001B[0;32m-> 1880\u001B[0m \u001B[38;5;28mself\u001B[39m\u001B[38;5;241m.\u001B[39mhandles \u001B[38;5;241m=\u001B[39m get_handle(\n\u001B[1;32m   1881\u001B[0m     f,\n\u001B[1;32m   1882\u001B[0m     mode,\n\u001B[1;32m   1883\u001B[0m     encoding\u001B[38;5;241m=\u001B[39m\u001B[38;5;28mself\u001B[39m\u001B[38;5;241m.\u001B[39moptions\u001B[38;5;241m.\u001B[39mget(\u001B[38;5;124m\"\u001B[39m\u001B[38;5;124mencoding\u001B[39m\u001B[38;5;124m\"\u001B[39m, \u001B[38;5;28;01mNone\u001B[39;00m),\n\u001B[1;32m   1884\u001B[0m     compression\u001B[38;5;241m=\u001B[39m\u001B[38;5;28mself\u001B[39m\u001B[38;5;241m.\u001B[39moptions\u001B[38;5;241m.\u001B[39mget(\u001B[38;5;124m\"\u001B[39m\u001B[38;5;124mcompression\u001B[39m\u001B[38;5;124m\"\u001B[39m, \u001B[38;5;28;01mNone\u001B[39;00m),\n\u001B[1;32m   1885\u001B[0m     memory_map\u001B[38;5;241m=\u001B[39m\u001B[38;5;28mself\u001B[39m\u001B[38;5;241m.\u001B[39moptions\u001B[38;5;241m.\u001B[39mget(\u001B[38;5;124m\"\u001B[39m\u001B[38;5;124mmemory_map\u001B[39m\u001B[38;5;124m\"\u001B[39m, \u001B[38;5;28;01mFalse\u001B[39;00m),\n\u001B[1;32m   1886\u001B[0m     is_text\u001B[38;5;241m=\u001B[39mis_text,\n\u001B[1;32m   1887\u001B[0m     errors\u001B[38;5;241m=\u001B[39m\u001B[38;5;28mself\u001B[39m\u001B[38;5;241m.\u001B[39moptions\u001B[38;5;241m.\u001B[39mget(\u001B[38;5;124m\"\u001B[39m\u001B[38;5;124mencoding_errors\u001B[39m\u001B[38;5;124m\"\u001B[39m, \u001B[38;5;124m\"\u001B[39m\u001B[38;5;124mstrict\u001B[39m\u001B[38;5;124m\"\u001B[39m),\n\u001B[1;32m   1888\u001B[0m     storage_options\u001B[38;5;241m=\u001B[39m\u001B[38;5;28mself\u001B[39m\u001B[38;5;241m.\u001B[39moptions\u001B[38;5;241m.\u001B[39mget(\u001B[38;5;124m\"\u001B[39m\u001B[38;5;124mstorage_options\u001B[39m\u001B[38;5;124m\"\u001B[39m, \u001B[38;5;28;01mNone\u001B[39;00m),\n\u001B[1;32m   1889\u001B[0m )\n\u001B[1;32m   1890\u001B[0m \u001B[38;5;28;01massert\u001B[39;00m \u001B[38;5;28mself\u001B[39m\u001B[38;5;241m.\u001B[39mhandles \u001B[38;5;129;01mis\u001B[39;00m \u001B[38;5;129;01mnot\u001B[39;00m \u001B[38;5;28;01mNone\u001B[39;00m\n\u001B[1;32m   1891\u001B[0m f \u001B[38;5;241m=\u001B[39m \u001B[38;5;28mself\u001B[39m\u001B[38;5;241m.\u001B[39mhandles\u001B[38;5;241m.\u001B[39mhandle\n",
      "File \u001B[0;32m/opt/anaconda3/envs/naver_shopping_absa/lib/python3.11/site-packages/pandas/io/common.py:873\u001B[0m, in \u001B[0;36mget_handle\u001B[0;34m(path_or_buf, mode, encoding, compression, memory_map, is_text, errors, storage_options)\u001B[0m\n\u001B[1;32m    868\u001B[0m \u001B[38;5;28;01melif\u001B[39;00m \u001B[38;5;28misinstance\u001B[39m(handle, \u001B[38;5;28mstr\u001B[39m):\n\u001B[1;32m    869\u001B[0m     \u001B[38;5;66;03m# Check whether the filename is to be opened in binary mode.\u001B[39;00m\n\u001B[1;32m    870\u001B[0m     \u001B[38;5;66;03m# Binary mode does not support 'encoding' and 'newline'.\u001B[39;00m\n\u001B[1;32m    871\u001B[0m     \u001B[38;5;28;01mif\u001B[39;00m ioargs\u001B[38;5;241m.\u001B[39mencoding \u001B[38;5;129;01mand\u001B[39;00m \u001B[38;5;124m\"\u001B[39m\u001B[38;5;124mb\u001B[39m\u001B[38;5;124m\"\u001B[39m \u001B[38;5;129;01mnot\u001B[39;00m \u001B[38;5;129;01min\u001B[39;00m ioargs\u001B[38;5;241m.\u001B[39mmode:\n\u001B[1;32m    872\u001B[0m         \u001B[38;5;66;03m# Encoding\u001B[39;00m\n\u001B[0;32m--> 873\u001B[0m         handle \u001B[38;5;241m=\u001B[39m \u001B[38;5;28mopen\u001B[39m(\n\u001B[1;32m    874\u001B[0m             handle,\n\u001B[1;32m    875\u001B[0m             ioargs\u001B[38;5;241m.\u001B[39mmode,\n\u001B[1;32m    876\u001B[0m             encoding\u001B[38;5;241m=\u001B[39mioargs\u001B[38;5;241m.\u001B[39mencoding,\n\u001B[1;32m    877\u001B[0m             errors\u001B[38;5;241m=\u001B[39merrors,\n\u001B[1;32m    878\u001B[0m             newline\u001B[38;5;241m=\u001B[39m\u001B[38;5;124m\"\u001B[39m\u001B[38;5;124m\"\u001B[39m,\n\u001B[1;32m    879\u001B[0m         )\n\u001B[1;32m    880\u001B[0m     \u001B[38;5;28;01melse\u001B[39;00m:\n\u001B[1;32m    881\u001B[0m         \u001B[38;5;66;03m# Binary mode\u001B[39;00m\n\u001B[1;32m    882\u001B[0m         handle \u001B[38;5;241m=\u001B[39m \u001B[38;5;28mopen\u001B[39m(handle, ioargs\u001B[38;5;241m.\u001B[39mmode)\n",
      "\u001B[0;31mFileNotFoundError\u001B[0m: [Errno 2] No such file or directory: 'final_df.csv'"
     ]
    }
   ],
   "execution_count": 12
  },
  {
   "metadata": {
    "ExecuteTime": {
     "end_time": "2024-12-09T11:38:17.989355Z",
     "start_time": "2024-12-09T11:38:17.941156Z"
    }
   },
   "cell_type": "code",
   "source": [
    "# # 별점 개수 세기\n",
    "# rating_counts = df['product_id'].value_counts().sort_index()\n",
    "# df=df[df['product_id']=='352595429']\n",
    "#\n",
    "# print(rating_counts)\n"
   ],
   "id": "17d3f48f1a16b83e",
   "outputs": [
    {
     "ename": "TypeError",
     "evalue": "'<' not supported between instances of 'int' and 'str'",
     "output_type": "error",
     "traceback": [
      "\u001B[0;31m---------------------------------------------------------------------------\u001B[0m",
      "\u001B[0;31mTypeError\u001B[0m                                 Traceback (most recent call last)",
      "Cell \u001B[0;32mIn[75], line 2\u001B[0m\n\u001B[1;32m      1\u001B[0m \u001B[38;5;66;03m# 별점 개수 세기\u001B[39;00m\n\u001B[0;32m----> 2\u001B[0m rating_counts \u001B[38;5;241m=\u001B[39m df[\u001B[38;5;124m'\u001B[39m\u001B[38;5;124mproduct_id\u001B[39m\u001B[38;5;124m'\u001B[39m]\u001B[38;5;241m.\u001B[39mvalue_counts()\u001B[38;5;241m.\u001B[39msort_index()\n\u001B[1;32m      3\u001B[0m \u001B[38;5;66;03m# df=df[df['product_id']=='352595429']\u001B[39;00m\n\u001B[1;32m      5\u001B[0m \u001B[38;5;28mprint\u001B[39m(rating_counts)\n",
      "File \u001B[0;32m/opt/anaconda3/envs/naver_shopping_absa/lib/python3.11/site-packages/pandas/core/series.py:4069\u001B[0m, in \u001B[0;36mSeries.sort_index\u001B[0;34m(self, axis, level, ascending, inplace, kind, na_position, sort_remaining, ignore_index, key)\u001B[0m\n\u001B[1;32m   3936\u001B[0m \u001B[38;5;28;01mdef\u001B[39;00m \u001B[38;5;21msort_index\u001B[39m(\n\u001B[1;32m   3937\u001B[0m     \u001B[38;5;28mself\u001B[39m,\n\u001B[1;32m   3938\u001B[0m     \u001B[38;5;241m*\u001B[39m,\n\u001B[0;32m   (...)\u001B[0m\n\u001B[1;32m   3947\u001B[0m     key: IndexKeyFunc \u001B[38;5;241m|\u001B[39m \u001B[38;5;28;01mNone\u001B[39;00m \u001B[38;5;241m=\u001B[39m \u001B[38;5;28;01mNone\u001B[39;00m,\n\u001B[1;32m   3948\u001B[0m ) \u001B[38;5;241m-\u001B[39m\u001B[38;5;241m>\u001B[39m Series \u001B[38;5;241m|\u001B[39m \u001B[38;5;28;01mNone\u001B[39;00m:\n\u001B[1;32m   3949\u001B[0m \u001B[38;5;250m    \u001B[39m\u001B[38;5;124;03m\"\"\"\u001B[39;00m\n\u001B[1;32m   3950\u001B[0m \u001B[38;5;124;03m    Sort Series by index labels.\u001B[39;00m\n\u001B[1;32m   3951\u001B[0m \n\u001B[0;32m   (...)\u001B[0m\n\u001B[1;32m   4066\u001B[0m \u001B[38;5;124;03m    dtype: int64\u001B[39;00m\n\u001B[1;32m   4067\u001B[0m \u001B[38;5;124;03m    \"\"\"\u001B[39;00m\n\u001B[0;32m-> 4069\u001B[0m     \u001B[38;5;28;01mreturn\u001B[39;00m \u001B[38;5;28msuper\u001B[39m()\u001B[38;5;241m.\u001B[39msort_index(\n\u001B[1;32m   4070\u001B[0m         axis\u001B[38;5;241m=\u001B[39maxis,\n\u001B[1;32m   4071\u001B[0m         level\u001B[38;5;241m=\u001B[39mlevel,\n\u001B[1;32m   4072\u001B[0m         ascending\u001B[38;5;241m=\u001B[39mascending,\n\u001B[1;32m   4073\u001B[0m         inplace\u001B[38;5;241m=\u001B[39minplace,\n\u001B[1;32m   4074\u001B[0m         kind\u001B[38;5;241m=\u001B[39mkind,\n\u001B[1;32m   4075\u001B[0m         na_position\u001B[38;5;241m=\u001B[39mna_position,\n\u001B[1;32m   4076\u001B[0m         sort_remaining\u001B[38;5;241m=\u001B[39msort_remaining,\n\u001B[1;32m   4077\u001B[0m         ignore_index\u001B[38;5;241m=\u001B[39mignore_index,\n\u001B[1;32m   4078\u001B[0m         key\u001B[38;5;241m=\u001B[39mkey,\n\u001B[1;32m   4079\u001B[0m     )\n",
      "File \u001B[0;32m/opt/anaconda3/envs/naver_shopping_absa/lib/python3.11/site-packages/pandas/core/generic.py:5309\u001B[0m, in \u001B[0;36mNDFrame.sort_index\u001B[0;34m(self, axis, level, ascending, inplace, kind, na_position, sort_remaining, ignore_index, key)\u001B[0m\n\u001B[1;32m   5305\u001B[0m ascending \u001B[38;5;241m=\u001B[39m validate_ascending(ascending)\n\u001B[1;32m   5307\u001B[0m target \u001B[38;5;241m=\u001B[39m \u001B[38;5;28mself\u001B[39m\u001B[38;5;241m.\u001B[39m_get_axis(axis)\n\u001B[0;32m-> 5309\u001B[0m indexer \u001B[38;5;241m=\u001B[39m get_indexer_indexer(\n\u001B[1;32m   5310\u001B[0m     target, level, ascending, kind, na_position, sort_remaining, key\n\u001B[1;32m   5311\u001B[0m )\n\u001B[1;32m   5313\u001B[0m \u001B[38;5;28;01mif\u001B[39;00m indexer \u001B[38;5;129;01mis\u001B[39;00m \u001B[38;5;28;01mNone\u001B[39;00m:\n\u001B[1;32m   5314\u001B[0m     \u001B[38;5;28;01mif\u001B[39;00m inplace:\n",
      "File \u001B[0;32m/opt/anaconda3/envs/naver_shopping_absa/lib/python3.11/site-packages/pandas/core/sorting.py:113\u001B[0m, in \u001B[0;36mget_indexer_indexer\u001B[0;34m(target, level, ascending, kind, na_position, sort_remaining, key)\u001B[0m\n\u001B[1;32m    108\u001B[0m     indexer \u001B[38;5;241m=\u001B[39m lexsort_indexer(\n\u001B[1;32m    109\u001B[0m         codes, orders\u001B[38;5;241m=\u001B[39mascending, na_position\u001B[38;5;241m=\u001B[39mna_position, codes_given\u001B[38;5;241m=\u001B[39m\u001B[38;5;28;01mTrue\u001B[39;00m\n\u001B[1;32m    110\u001B[0m     )\n\u001B[1;32m    111\u001B[0m \u001B[38;5;28;01melse\u001B[39;00m:\n\u001B[1;32m    112\u001B[0m     \u001B[38;5;66;03m# ascending can only be a Sequence for MultiIndex\u001B[39;00m\n\u001B[0;32m--> 113\u001B[0m     indexer \u001B[38;5;241m=\u001B[39m nargsort(\n\u001B[1;32m    114\u001B[0m         target,\n\u001B[1;32m    115\u001B[0m         kind\u001B[38;5;241m=\u001B[39mkind,\n\u001B[1;32m    116\u001B[0m         ascending\u001B[38;5;241m=\u001B[39mcast(\u001B[38;5;28mbool\u001B[39m, ascending),\n\u001B[1;32m    117\u001B[0m         na_position\u001B[38;5;241m=\u001B[39mna_position,\n\u001B[1;32m    118\u001B[0m     )\n\u001B[1;32m    119\u001B[0m \u001B[38;5;28;01mreturn\u001B[39;00m indexer\n",
      "File \u001B[0;32m/opt/anaconda3/envs/naver_shopping_absa/lib/python3.11/site-packages/pandas/core/sorting.py:439\u001B[0m, in \u001B[0;36mnargsort\u001B[0;34m(items, kind, ascending, na_position, key, mask)\u001B[0m\n\u001B[1;32m    437\u001B[0m     non_nans \u001B[38;5;241m=\u001B[39m non_nans[::\u001B[38;5;241m-\u001B[39m\u001B[38;5;241m1\u001B[39m]\n\u001B[1;32m    438\u001B[0m     non_nan_idx \u001B[38;5;241m=\u001B[39m non_nan_idx[::\u001B[38;5;241m-\u001B[39m\u001B[38;5;241m1\u001B[39m]\n\u001B[0;32m--> 439\u001B[0m indexer \u001B[38;5;241m=\u001B[39m non_nan_idx[non_nans\u001B[38;5;241m.\u001B[39margsort(kind\u001B[38;5;241m=\u001B[39mkind)]\n\u001B[1;32m    440\u001B[0m \u001B[38;5;28;01mif\u001B[39;00m \u001B[38;5;129;01mnot\u001B[39;00m ascending:\n\u001B[1;32m    441\u001B[0m     indexer \u001B[38;5;241m=\u001B[39m indexer[::\u001B[38;5;241m-\u001B[39m\u001B[38;5;241m1\u001B[39m]\n",
      "\u001B[0;31mTypeError\u001B[0m: '<' not supported between instances of 'int' and 'str'"
     ]
    }
   ],
   "execution_count": 75
  },
  {
   "metadata": {},
   "cell_type": "markdown",
   "source": "## 5. 최소 리뷰 수 계산",
   "id": "2cc1d2e018aeb532"
  },
  {
   "metadata": {
    "ExecuteTime": {
     "end_time": "2024-12-09T11:38:28.128018Z",
     "start_time": "2024-12-09T11:38:28.085728Z"
    }
   },
   "cell_type": "code",
   "source": [
    "# 별점-상품 조합의 최소 리뷰 수 계산\n",
    "min_reviews_per_group = (\n",
    "    df.groupby(['stars_score', 'product_id']).size().min()\n",
    ")\n",
    "\n",
    "# 별점-상품별로 균등 샘플링\n",
    "sampled_df = (\n",
    "    df.groupby(['stars_score', 'product_id'])\n",
    "    .apply(lambda x: x.sample(9, random_state=42))\n",
    "    .reset_index(drop=True)\n",
    ")\n",
    "\n",
    "# 별점별 리뷰 개수 확인\n",
    "print(sampled_df.groupby('stars_score').size())\n",
    "\n",
    "# 결과 출력\n",
    "print(sampled_df)"
   ],
   "id": "589469d49a726862",
   "outputs": [
    {
     "name": "stdout",
     "output_type": "stream",
     "text": [
      "stars_score\n",
      "1    90\n",
      "2    90\n",
      "3    90\n",
      "4    90\n",
      "5    90\n",
      "dtype: int64\n",
      "         smartstore                  product_name  product_id  \\\n",
      "0           oastore            오아 무선 접이식 블루투스 키보드   352595429   \n",
      "1           oastore            오아 무선 접이식 블루투스 키보드   352595429   \n",
      "2           oastore            오아 무선 접이식 블루투스 키보드   352595429   \n",
      "3           oastore  오아 무선 접이식 블루투스 키보드 OA-BTKBDA   352595429   \n",
      "4           oastore  오아 무선 접이식 블루투스 키보드 OA-BTKBDA   352595429   \n",
      "..              ...                           ...         ...   \n",
      "445  homepowerkorea     퀸센스 스텐 인덕션 찜기 찜냄비 찜솥 28cm  6516046984   \n",
      "446  homepowerkorea     퀸센스 스텐 인덕션 찜기 찜냄비 찜솥 32cm  6516046984   \n",
      "447  homepowerkorea     퀸센스 스텐 인덕션 찜기 찜냄비 찜솥 32cm  6516046984   \n",
      "448  homepowerkorea     홈파워 스텐 인덕션 찜기 찜냄비 찜솥 28cm  6516046984   \n",
      "449  homepowerkorea      퀸센스 2단 스텐 찜냄비 찜솥 26cm 찜기  6516046984   \n",
      "\n",
      "                              product_option       user_id  \\\n",
      "0                            옵션선택: 화이트 K0002     kimy*****   \n",
      "1                           옵션선택: 화이트 EV0737  shru********   \n",
      "2                            옵션선택: 화이트 K0002     miya*****   \n",
      "3                       옵션선택: 접이KB 화이트 K0002     sy_9*****   \n",
      "4                        옵션선택: 접이KB 블랙 K0001      will****   \n",
      "..                                       ...           ...   \n",
      "445  제품선택: 01-퀸센스 스텐 인덕션 찜기 찜냄비 찜솥 / 사이즈: 28       lin1***   \n",
      "446  제품선택: 01-퀸센스 스텐 인덕션 찜기 32cm / 사이즈: 32cm    urla******   \n",
      "447  제품선택: 01-퀸센스 스텐 인덕션 찜기 28cm / 사이즈: 28cm     with*****   \n",
      "448  제품선택: 01-홈파워 스텐 인덕션 찜기 24cm / 사이즈: 24cm        bb****   \n",
      "449             제품선택: 01-IH 2단 찜냄비 / 사이즈: 26     lpsa*****   \n",
      "\n",
      "                        apply_date  \\\n",
      "0    2022-07-12T23:57:24.726+00:00   \n",
      "1    2021-10-19T07:55:21.827+00:00   \n",
      "2    2023-06-29T05:51:03.090+00:00   \n",
      "3    2019-11-28T08:33:35.000+00:00   \n",
      "4    2019-06-16T02:43:30.000+00:00   \n",
      "..                             ...   \n",
      "445  2022-12-16T00:52:26.382+00:00   \n",
      "446  2023-12-07T01:51:39.743+00:00   \n",
      "447  2024-01-20T06:45:31.426+00:00   \n",
      "448  2024-09-24T11:44:51.927+00:00   \n",
      "449  2022-10-05T10:55:33.028+00:00   \n",
      "\n",
      "                                                review  stars_score  \\\n",
      "0                                      전반적으로 좀 불편했습니다.            1   \n",
      "1                       불편해서 잘 손에 안잡히네요...다른거 샀습니다...ㅎ            1   \n",
      "2                    아직 몇개월 사용도 못해봤는데 벌써 고장이네요. 안돼요 ㅠㅠ            1   \n",
      "3    일단 처음 사용하려고 열었는데 키가 하나 빠져있었고요.. 그건 잘 껴서 사용중인데 ...            1   \n",
      "4    이렇게 배송온 물건 처음봤어요 포장하면서 분명 찢어진거 발견하셨을텐데 이정도는 대수...            1   \n",
      "..                                                 ...          ...   \n",
      "445                                     잘 받았습니다 아직 사용전            5   \n",
      "446  이걸로 손님오시면 숙주 배추 만두 두부넣고 오리고기 찜이나 대패삼겹이 찜으로 멋진 ...            5   \n",
      "447  찜기로 해서 집들이때 고기말이찜 잘 해서 먹었어요~ 사용하기 전에 잘 닦아서 사용해...            5   \n",
      "448                              야채 쪄먹으려고 샀어요 잘 해먹어볼게요            5   \n",
      "449                                         잘 쓰고 있습니다.            5   \n",
      "\n",
      "     thumb_count  \n",
      "0              0  \n",
      "1              1  \n",
      "2              1  \n",
      "3              1  \n",
      "4              8  \n",
      "..           ...  \n",
      "445            0  \n",
      "446            0  \n",
      "447            1  \n",
      "448            0  \n",
      "449            0  \n",
      "\n",
      "[450 rows x 9 columns]\n"
     ]
    },
    {
     "name": "stderr",
     "output_type": "stream",
     "text": [
      "/var/folders/gb/6tdg7g8x441bp8yfgnfm4thh0000gn/T/ipykernel_64673/2661663775.py:9: DeprecationWarning: DataFrameGroupBy.apply operated on the grouping columns. This behavior is deprecated, and in a future version of pandas the grouping columns will be excluded from the operation. Either pass `include_groups=False` to exclude the groupings or explicitly select the grouping columns after groupby to silence this warning.\n",
      "  .apply(lambda x: x.sample(9, random_state=42))\n"
     ]
    }
   ],
   "execution_count": 77
  },
  {
   "metadata": {
    "ExecuteTime": {
     "end_time": "2024-12-09T11:38:29.111554Z",
     "start_time": "2024-12-09T11:38:29.092382Z"
    }
   },
   "cell_type": "code",
   "source": "min_reviews_per_group",
   "id": "8b62360a102031c",
   "outputs": [
    {
     "data": {
      "text/plain": [
       "9"
      ]
     },
     "execution_count": 78,
     "metadata": {},
     "output_type": "execute_result"
    }
   ],
   "execution_count": 78
  },
  {
   "metadata": {
    "ExecuteTime": {
     "end_time": "2024-12-09T11:38:30.684633Z",
     "start_time": "2024-12-09T11:38:30.650670Z"
    }
   },
   "cell_type": "code",
   "source": "sampled_df",
   "id": "d592bb9090dc1c3f",
   "outputs": [
    {
     "data": {
      "text/plain": [
       "         smartstore                  product_name  product_id  \\\n",
       "0           oastore            오아 무선 접이식 블루투스 키보드   352595429   \n",
       "1           oastore            오아 무선 접이식 블루투스 키보드   352595429   \n",
       "2           oastore            오아 무선 접이식 블루투스 키보드   352595429   \n",
       "3           oastore  오아 무선 접이식 블루투스 키보드 OA-BTKBDA   352595429   \n",
       "4           oastore  오아 무선 접이식 블루투스 키보드 OA-BTKBDA   352595429   \n",
       "..              ...                           ...         ...   \n",
       "445  homepowerkorea     퀸센스 스텐 인덕션 찜기 찜냄비 찜솥 28cm  6516046984   \n",
       "446  homepowerkorea     퀸센스 스텐 인덕션 찜기 찜냄비 찜솥 32cm  6516046984   \n",
       "447  homepowerkorea     퀸센스 스텐 인덕션 찜기 찜냄비 찜솥 32cm  6516046984   \n",
       "448  homepowerkorea     홈파워 스텐 인덕션 찜기 찜냄비 찜솥 28cm  6516046984   \n",
       "449  homepowerkorea      퀸센스 2단 스텐 찜냄비 찜솥 26cm 찜기  6516046984   \n",
       "\n",
       "                              product_option       user_id  \\\n",
       "0                            옵션선택: 화이트 K0002     kimy*****   \n",
       "1                           옵션선택: 화이트 EV0737  shru********   \n",
       "2                            옵션선택: 화이트 K0002     miya*****   \n",
       "3                       옵션선택: 접이KB 화이트 K0002     sy_9*****   \n",
       "4                        옵션선택: 접이KB 블랙 K0001      will****   \n",
       "..                                       ...           ...   \n",
       "445  제품선택: 01-퀸센스 스텐 인덕션 찜기 찜냄비 찜솥 / 사이즈: 28       lin1***   \n",
       "446  제품선택: 01-퀸센스 스텐 인덕션 찜기 32cm / 사이즈: 32cm    urla******   \n",
       "447  제품선택: 01-퀸센스 스텐 인덕션 찜기 28cm / 사이즈: 28cm     with*****   \n",
       "448  제품선택: 01-홈파워 스텐 인덕션 찜기 24cm / 사이즈: 24cm        bb****   \n",
       "449             제품선택: 01-IH 2단 찜냄비 / 사이즈: 26     lpsa*****   \n",
       "\n",
       "                        apply_date  \\\n",
       "0    2022-07-12T23:57:24.726+00:00   \n",
       "1    2021-10-19T07:55:21.827+00:00   \n",
       "2    2023-06-29T05:51:03.090+00:00   \n",
       "3    2019-11-28T08:33:35.000+00:00   \n",
       "4    2019-06-16T02:43:30.000+00:00   \n",
       "..                             ...   \n",
       "445  2022-12-16T00:52:26.382+00:00   \n",
       "446  2023-12-07T01:51:39.743+00:00   \n",
       "447  2024-01-20T06:45:31.426+00:00   \n",
       "448  2024-09-24T11:44:51.927+00:00   \n",
       "449  2022-10-05T10:55:33.028+00:00   \n",
       "\n",
       "                                                review  stars_score  \\\n",
       "0                                      전반적으로 좀 불편했습니다.            1   \n",
       "1                       불편해서 잘 손에 안잡히네요...다른거 샀습니다...ㅎ            1   \n",
       "2                    아직 몇개월 사용도 못해봤는데 벌써 고장이네요. 안돼요 ㅠㅠ            1   \n",
       "3    일단 처음 사용하려고 열었는데 키가 하나 빠져있었고요.. 그건 잘 껴서 사용중인데 ...            1   \n",
       "4    이렇게 배송온 물건 처음봤어요 포장하면서 분명 찢어진거 발견하셨을텐데 이정도는 대수...            1   \n",
       "..                                                 ...          ...   \n",
       "445                                     잘 받았습니다 아직 사용전            5   \n",
       "446  이걸로 손님오시면 숙주 배추 만두 두부넣고 오리고기 찜이나 대패삼겹이 찜으로 멋진 ...            5   \n",
       "447  찜기로 해서 집들이때 고기말이찜 잘 해서 먹었어요~ 사용하기 전에 잘 닦아서 사용해...            5   \n",
       "448                              야채 쪄먹으려고 샀어요 잘 해먹어볼게요            5   \n",
       "449                                         잘 쓰고 있습니다.            5   \n",
       "\n",
       "     thumb_count  \n",
       "0              0  \n",
       "1              1  \n",
       "2              1  \n",
       "3              1  \n",
       "4              8  \n",
       "..           ...  \n",
       "445            0  \n",
       "446            0  \n",
       "447            1  \n",
       "448            0  \n",
       "449            0  \n",
       "\n",
       "[450 rows x 9 columns]"
      ],
      "text/html": [
       "<div>\n",
       "<style scoped>\n",
       "    .dataframe tbody tr th:only-of-type {\n",
       "        vertical-align: middle;\n",
       "    }\n",
       "\n",
       "    .dataframe tbody tr th {\n",
       "        vertical-align: top;\n",
       "    }\n",
       "\n",
       "    .dataframe thead th {\n",
       "        text-align: right;\n",
       "    }\n",
       "</style>\n",
       "<table border=\"1\" class=\"dataframe\">\n",
       "  <thead>\n",
       "    <tr style=\"text-align: right;\">\n",
       "      <th></th>\n",
       "      <th>smartstore</th>\n",
       "      <th>product_name</th>\n",
       "      <th>product_id</th>\n",
       "      <th>product_option</th>\n",
       "      <th>user_id</th>\n",
       "      <th>apply_date</th>\n",
       "      <th>review</th>\n",
       "      <th>stars_score</th>\n",
       "      <th>thumb_count</th>\n",
       "    </tr>\n",
       "  </thead>\n",
       "  <tbody>\n",
       "    <tr>\n",
       "      <th>0</th>\n",
       "      <td>oastore</td>\n",
       "      <td>오아 무선 접이식 블루투스 키보드</td>\n",
       "      <td>352595429</td>\n",
       "      <td>옵션선택: 화이트 K0002</td>\n",
       "      <td>kimy*****</td>\n",
       "      <td>2022-07-12T23:57:24.726+00:00</td>\n",
       "      <td>전반적으로 좀 불편했습니다.</td>\n",
       "      <td>1</td>\n",
       "      <td>0</td>\n",
       "    </tr>\n",
       "    <tr>\n",
       "      <th>1</th>\n",
       "      <td>oastore</td>\n",
       "      <td>오아 무선 접이식 블루투스 키보드</td>\n",
       "      <td>352595429</td>\n",
       "      <td>옵션선택: 화이트 EV0737</td>\n",
       "      <td>shru********</td>\n",
       "      <td>2021-10-19T07:55:21.827+00:00</td>\n",
       "      <td>불편해서 잘 손에 안잡히네요...다른거 샀습니다...ㅎ</td>\n",
       "      <td>1</td>\n",
       "      <td>1</td>\n",
       "    </tr>\n",
       "    <tr>\n",
       "      <th>2</th>\n",
       "      <td>oastore</td>\n",
       "      <td>오아 무선 접이식 블루투스 키보드</td>\n",
       "      <td>352595429</td>\n",
       "      <td>옵션선택: 화이트 K0002</td>\n",
       "      <td>miya*****</td>\n",
       "      <td>2023-06-29T05:51:03.090+00:00</td>\n",
       "      <td>아직 몇개월 사용도 못해봤는데 벌써 고장이네요. 안돼요 ㅠㅠ</td>\n",
       "      <td>1</td>\n",
       "      <td>1</td>\n",
       "    </tr>\n",
       "    <tr>\n",
       "      <th>3</th>\n",
       "      <td>oastore</td>\n",
       "      <td>오아 무선 접이식 블루투스 키보드 OA-BTKBDA</td>\n",
       "      <td>352595429</td>\n",
       "      <td>옵션선택: 접이KB 화이트 K0002</td>\n",
       "      <td>sy_9*****</td>\n",
       "      <td>2019-11-28T08:33:35.000+00:00</td>\n",
       "      <td>일단 처음 사용하려고 열었는데 키가 하나 빠져있었고요.. 그건 잘 껴서 사용중인데 ...</td>\n",
       "      <td>1</td>\n",
       "      <td>1</td>\n",
       "    </tr>\n",
       "    <tr>\n",
       "      <th>4</th>\n",
       "      <td>oastore</td>\n",
       "      <td>오아 무선 접이식 블루투스 키보드 OA-BTKBDA</td>\n",
       "      <td>352595429</td>\n",
       "      <td>옵션선택: 접이KB 블랙 K0001</td>\n",
       "      <td>will****</td>\n",
       "      <td>2019-06-16T02:43:30.000+00:00</td>\n",
       "      <td>이렇게 배송온 물건 처음봤어요 포장하면서 분명 찢어진거 발견하셨을텐데 이정도는 대수...</td>\n",
       "      <td>1</td>\n",
       "      <td>8</td>\n",
       "    </tr>\n",
       "    <tr>\n",
       "      <th>...</th>\n",
       "      <td>...</td>\n",
       "      <td>...</td>\n",
       "      <td>...</td>\n",
       "      <td>...</td>\n",
       "      <td>...</td>\n",
       "      <td>...</td>\n",
       "      <td>...</td>\n",
       "      <td>...</td>\n",
       "      <td>...</td>\n",
       "    </tr>\n",
       "    <tr>\n",
       "      <th>445</th>\n",
       "      <td>homepowerkorea</td>\n",
       "      <td>퀸센스 스텐 인덕션 찜기 찜냄비 찜솥 28cm</td>\n",
       "      <td>6516046984</td>\n",
       "      <td>제품선택: 01-퀸센스 스텐 인덕션 찜기 찜냄비 찜솥 / 사이즈: 28</td>\n",
       "      <td>lin1***</td>\n",
       "      <td>2022-12-16T00:52:26.382+00:00</td>\n",
       "      <td>잘 받았습니다 아직 사용전</td>\n",
       "      <td>5</td>\n",
       "      <td>0</td>\n",
       "    </tr>\n",
       "    <tr>\n",
       "      <th>446</th>\n",
       "      <td>homepowerkorea</td>\n",
       "      <td>퀸센스 스텐 인덕션 찜기 찜냄비 찜솥 32cm</td>\n",
       "      <td>6516046984</td>\n",
       "      <td>제품선택: 01-퀸센스 스텐 인덕션 찜기 32cm / 사이즈: 32cm</td>\n",
       "      <td>urla******</td>\n",
       "      <td>2023-12-07T01:51:39.743+00:00</td>\n",
       "      <td>이걸로 손님오시면 숙주 배추 만두 두부넣고 오리고기 찜이나 대패삼겹이 찜으로 멋진 ...</td>\n",
       "      <td>5</td>\n",
       "      <td>0</td>\n",
       "    </tr>\n",
       "    <tr>\n",
       "      <th>447</th>\n",
       "      <td>homepowerkorea</td>\n",
       "      <td>퀸센스 스텐 인덕션 찜기 찜냄비 찜솥 32cm</td>\n",
       "      <td>6516046984</td>\n",
       "      <td>제품선택: 01-퀸센스 스텐 인덕션 찜기 28cm / 사이즈: 28cm</td>\n",
       "      <td>with*****</td>\n",
       "      <td>2024-01-20T06:45:31.426+00:00</td>\n",
       "      <td>찜기로 해서 집들이때 고기말이찜 잘 해서 먹었어요~ 사용하기 전에 잘 닦아서 사용해...</td>\n",
       "      <td>5</td>\n",
       "      <td>1</td>\n",
       "    </tr>\n",
       "    <tr>\n",
       "      <th>448</th>\n",
       "      <td>homepowerkorea</td>\n",
       "      <td>홈파워 스텐 인덕션 찜기 찜냄비 찜솥 28cm</td>\n",
       "      <td>6516046984</td>\n",
       "      <td>제품선택: 01-홈파워 스텐 인덕션 찜기 24cm / 사이즈: 24cm</td>\n",
       "      <td>bb****</td>\n",
       "      <td>2024-09-24T11:44:51.927+00:00</td>\n",
       "      <td>야채 쪄먹으려고 샀어요 잘 해먹어볼게요</td>\n",
       "      <td>5</td>\n",
       "      <td>0</td>\n",
       "    </tr>\n",
       "    <tr>\n",
       "      <th>449</th>\n",
       "      <td>homepowerkorea</td>\n",
       "      <td>퀸센스 2단 스텐 찜냄비 찜솥 26cm 찜기</td>\n",
       "      <td>6516046984</td>\n",
       "      <td>제품선택: 01-IH 2단 찜냄비 / 사이즈: 26</td>\n",
       "      <td>lpsa*****</td>\n",
       "      <td>2022-10-05T10:55:33.028+00:00</td>\n",
       "      <td>잘 쓰고 있습니다.</td>\n",
       "      <td>5</td>\n",
       "      <td>0</td>\n",
       "    </tr>\n",
       "  </tbody>\n",
       "</table>\n",
       "<p>450 rows × 9 columns</p>\n",
       "</div>"
      ]
     },
     "execution_count": 79,
     "metadata": {},
     "output_type": "execute_result"
    }
   ],
   "execution_count": 79
  },
  {
   "metadata": {
    "ExecuteTime": {
     "end_time": "2024-12-09T11:38:32.453777Z",
     "start_time": "2024-12-09T11:38:32.441238Z"
    }
   },
   "cell_type": "code",
   "source": "sampled_df.to_csv('final_df.csv', index=False)",
   "id": "2e0f29e43b6bdb5b",
   "outputs": [],
   "execution_count": 80
  },
  {
   "metadata": {
    "ExecuteTime": {
     "end_time": "2024-12-09T11:38:35.753984Z",
     "start_time": "2024-12-09T11:38:35.748281Z"
    }
   },
   "cell_type": "code",
   "source": [
    "# product_id별 리뷰 개수 세기\n",
    "rating_counts = sampled_df['product_id'].value_counts()\n",
    "\n",
    "# 각 product_id와 개수 출력\n",
    "for i, (product_id, count) in enumerate(rating_counts.items()):\n",
    "    print(f'{i+1}번째, product_id: {product_id}, 개수: {count}')\n"
   ],
   "id": "9672cccd365fbee4",
   "outputs": [
    {
     "name": "stdout",
     "output_type": "stream",
     "text": [
      "1번째, product_id: 352595429, 개수: 45\n",
      "2번째, product_id: 528580783, 개수: 45\n",
      "3번째, product_id: 3063080859, 개수: 45\n",
      "4번째, product_id: 4676444362, 개수: 45\n",
      "5번째, product_id: 4711684205, 개수: 45\n",
      "6번째, product_id: 5017491357, 개수: 45\n",
      "7번째, product_id: 5155675165, 개수: 45\n",
      "8번째, product_id: 5304277640, 개수: 45\n",
      "9번째, product_id: 8901908546, 개수: 45\n",
      "10번째, product_id: 6516046984, 개수: 45\n"
     ]
    }
   ],
   "execution_count": 81
  },
  {
   "metadata": {
    "ExecuteTime": {
     "end_time": "2024-12-09T10:39:25.205603Z",
     "start_time": "2024-12-09T10:39:25.185146Z"
    }
   },
   "cell_type": "code",
   "source": "# sampled_df=sampled_df[sampled_df['product_id']!=6455025636]",
   "id": "19b30ffe0cd39b03",
   "outputs": [],
   "execution_count": 70
  },
  {
   "metadata": {},
   "cell_type": "code",
   "outputs": [],
   "execution_count": null,
   "source": "",
   "id": "d9584ce754185634"
  }
 ],
 "metadata": {
  "kernelspec": {
   "display_name": "Python 3",
   "language": "python",
   "name": "python3"
  },
  "language_info": {
   "codemirror_mode": {
    "name": "ipython",
    "version": 2
   },
   "file_extension": ".py",
   "mimetype": "text/x-python",
   "name": "python",
   "nbconvert_exporter": "python",
   "pygments_lexer": "ipython2",
   "version": "2.7.6"
  }
 },
 "nbformat": 4,
 "nbformat_minor": 5
}
