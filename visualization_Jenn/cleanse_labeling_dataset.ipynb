{
 "cells": [
  {
   "cell_type": "code",
   "execution_count": null,
   "metadata": {},
   "outputs": [],
   "source": [
    "import pandas as pd\n",
    "\n",
    "# 파일 불러오기\n",
    "file_path ='labeling with gpt.xlsx'  # 파일 경로\n",
    "df = pd.read_excel(file_path)\n",
    "\n",
    "# 쉼표 뒤에 띄어쓰기를 보장하는 함수\n",
    "def ensure_comma_spacing(text):\n",
    "    if isinstance(text, str):  # 문자열일 경우에만 처리\n",
    "        return ', '.join(item.strip() for item in text.split(','))\n",
    "    return text  # 문자열이 아니면 그대로 반환\n",
    "\n",
    "# 적용할 칼럼 리스트\n",
    "columns_to_clean = ['final_polarity', 'final_aspect', 'final_category']\n",
    "\n",
    "# 각 칼럼에 함수 적용\n",
    "for col in columns_to_clean:\n",
    "    df[col] = df[col].apply(ensure_comma_spacing)\n",
    "\n",
    "# final_polarity 칼럼의 문자열을 모두 대문자로 변환\n",
    "df['final_polarity'] = df['final_polarity'].apply(lambda x: x.upper() if isinstance(x, str) else x)\n",
    "\n",
    "# 결과 저장\n",
    "# df.to_excel('cleaned_labeling_with_gpt.xlsx', index=False)\n",
    "df.to_csv('cleaned_labeling_with_gpt.csv', index=False)\n"
   ]
  },
  {
   "cell_type": "code",
   "execution_count": 4,
   "metadata": {},
   "outputs": [
    {
     "name": "stdout",
     "output_type": "stream",
     "text": [
      "카테고리별 개수:\n",
      "final_category\n",
      "품질       736\n",
      "디자인      213\n",
      "가격       128\n",
      "배송       122\n",
      "서비스운영     46\n",
      "Name: count, dtype: int64\n",
      "카테고리 개수 결과가 저장되었습니다: final_category_counts.xlsx\n"
     ]
    }
   ],
   "source": [
    "# 'final_category' 칼럼을 쉼표를 기준으로 나눈 후, 각 값을 리스트 형태로 펼침\n",
    "category_counts = df['final_category'].dropna().apply(lambda x: x.split(',')).explode()\n",
    "\n",
    "# 공백 제거 (카테고리 값들에)\n",
    "category_counts = category_counts.str.strip()\n",
    "\n",
    "# 카테고리별 개수 세기\n",
    "final_count = category_counts.value_counts()\n",
    "\n",
    "# 주요 카테고리만 필터링 (품질, 배송, 서비스운영, 디자인, 가격)\n",
    "categories = ['품질', '배송', '서비스운영', '디자인', '가격']\n",
    "filtered_counts = final_count[final_count.index.isin(categories)]\n",
    "\n",
    "# 결과 출력\n",
    "print(\"카테고리별 개수:\")\n",
    "print(filtered_counts)\n",
    "\n",
    "# 결과를 Excel 파일로 저장\n",
    "output_path = 'final_category_counts.xlsx'\n",
    "filtered_counts.to_excel(output_path, sheet_name='category_counts')\n",
    "\n",
    "print(f\"카테고리 개수 결과가 저장되었습니다: {output_path}\")"
   ]
  },
  {
   "cell_type": "code",
   "execution_count": 5,
   "metadata": {},
   "outputs": [
    {
     "name": "stdout",
     "output_type": "stream",
     "text": [
      "지정된 열들에 NaN 값이 없습니다.\n"
     ]
    }
   ],
   "source": [
    "# 확인할 열 지정\n",
    "columns_to_check = ['final_polarity', 'final_aspect', 'final_category']\n",
    "\n",
    "# NaN 값 확인\n",
    "nan_in_columns = df[columns_to_check].isnull().any()\n",
    "\n",
    "if nan_in_columns.any():\n",
    "    print(\"다음 열에 NaN 값이 존재합니다:\")\n",
    "    print(nan_in_columns[nan_in_columns].index.tolist())\n",
    "else:\n",
    "    print(\"지정된 열들에 NaN 값이 없습니다.\")"
   ]
  }
 ],
 "metadata": {
  "kernelspec": {
   "display_name": "base",
   "language": "python",
   "name": "python3"
  },
  "language_info": {
   "codemirror_mode": {
    "name": "ipython",
    "version": 3
   },
   "file_extension": ".py",
   "mimetype": "text/x-python",
   "name": "python",
   "nbconvert_exporter": "python",
   "pygments_lexer": "ipython3",
   "version": "3.12.7"
  }
 },
 "nbformat": 4,
 "nbformat_minor": 2
}
